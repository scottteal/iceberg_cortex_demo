{
 "cells": [
  {
   "cell_type": "markdown",
   "metadata": {},
   "source": [
    "### Import Packages\n",
    "Just like the Python packages we are importing, we will import the Snowpark modules that we need."
   ]
  },
  {
   "cell_type": "code",
   "execution_count": 2,
   "metadata": {},
   "outputs": [],
   "source": [
    "# Make sure you're using the 3.11.6 iceberg-demo Python kernel\n"
    "import json\n",
    "from snowflake.snowpark import Session\n",
    "import snowflake.snowpark.types as T"
   ]
  },
  {
   "cell_type": "markdown",
   "metadata": {},
   "source": [
    "### Connect to Snowflake\n",
    "We will use these parameters and our Snowflake account credentials to connect to Snowflake and create a Snowpark session."
   ]
  },
  {
   "cell_type": "code",
   "execution_count": 7,
   "metadata": {},
   "outputs": [],
   "source": [
    "# Get account credentials from a json file\n",
    "with open(\"auth.json\") as f:\n",
    "    data = json.load(f)\n",
    "    username = data[\"username\"]\n",
    "    password = data[\"password\"]\n",
    "    account = data[\"account\"]\n",
    "\n",
    "# Specify connection parameters\n",
    "connection_parameters = {\n",
    "    \"account\": account,\n",
    "    \"user\": username,\n",
    "    \"password\": password,\n",
    "    \"role\": \"accountadmin\",\n",
    "    \"warehouse\": \"demo_wh\",\n",
    "    \"database\": \"demo\",\n",
    "    \"schema\": \"public\",\n",
    "}\n",
    "\n",
    "# Create Snowpark session\n",
    "session = Session.builder.configs(connection_parameters).create()"
   ]
  },
  {
   "cell_type": "markdown",
   "metadata": {},
   "source": [
    "### Upload CSVs\n",
    "Let's upload product review CSVs to Snowflake internal stage."
   ]
  },
  {
   "cell_type": "code",
   "execution_count": 29,
   "metadata": {},
   "outputs": [
    {
     "data": {
      "text/plain": [
       "'UPLOADED'"
      ]
     },
     "execution_count": 29,
     "metadata": {},
     "output_type": "execute_result"
    }
   ],
   "source": [
    "put_result = session.file.put(\"product_reviews_*.csv\",\"@demo.public.files\",auto_compress=False)\n",
    "put_result[0].status"
   ]
  },
  {
   "cell_type": "markdown",
   "metadata": {},
   "source": [
    "### Create Snowpark DataFrame & preview\n",
    "Let's read the January product reviews CSV a Snowpark DataFrame."
   ]
  },
  {
   "cell_type": "code",
   "execution_count": 23,
   "metadata": {},
   "outputs": [],
   "source": [
    "# Define schema for CSV file\n",
    "reviews_schema = T.StructType([T.StructField(\"ID\", T.StringType()),\n",
    "                               T.StructField(\"PRODUCT_NAME\", T.StringType()),\n",
    "                               T.StructField(\"PRODUCT_ID\", T.StringType()),\n",
    "                               T.StructField(\"REVIEWER_NAME\", T.StringType()),\n",
    "                               T.StructField(\"REVIEW_DATE\", T.DateType()),\n",
    "                               T.StructField(\"REVIEW\", T.StringType()),\n",
    "                               T.StructField(\"SENTIMENT\", T.FloatType())])"
   ]
  },
  {
   "cell_type": "code",
   "execution_count": 27,
   "metadata": {},
   "outputs": [],
   "source": [
    "# Read January reviews CSV into DataFrame \n",
    "jan_df = session.read \\\n",
    "    .schema(reviews_schema) \\\n",
    "    .option(\"skip_header\", 1) \\\n",
    "    .option(\"field_optionally_enclosed_by\", '\"') \\\n",
    "    .csv(\"@demo.public.files/product_reviews_jan_24.csv\")"
   ]
  },
  {
   "cell_type": "code",
   "execution_count": 30,
   "metadata": {},
   "outputs": [
    {
     "name": "stdout",
     "output_type": "stream",
     "text": [
      "----------------------------------------------------------------------------------------------------------------------------------------------------------------\n",
      "|\"ID\"      |\"PRODUCT_NAME\"              |\"PRODUCT_ID\"  |\"REVIEWER_NAME\"     |\"REVIEW_DATE\"  |\"REVIEW\"                                            |\"SENTIMENT\"  |\n",
      "----------------------------------------------------------------------------------------------------------------------------------------------------------------\n",
      "|R3gF8i2n  |PowerFlex Resistance Bands  |PFRB-015      |Zoe Phillips        |2024-01-01     |The HeatWave Electric Blanket keeps me              |NULL         |\n",
      "|e9A2Lk7p  |TurboCharge Power Bank      |TCPB-010      |Olivia Garcia       |2024-01-01     |Still impressed with the durability of the Snug...  |NULL         |\n",
      "|K4zP5r6f  |SnugFit Phone Holder        |SFPH-007      |Isabella Rodriguez  |2024-01-01     |PowerFlex Resistance Bands are durable and vers...  |NULL         |\n",
      "|sT3qV0bF  |TrueTaste Blender Bottle    |TTBB-019      |Dylan Walker        |2024-01-01     |TurboCharge Power Bank is my go-to for keeping ...  |NULL         |\n",
      "|H1wS6dNv  |PowerFlex Resistance Bands  |PFRB-015      |Sarah Johnson       |2024-01-02     |NovaChill Cooler Bag is spacious and keeps my d...  |NULL         |\n",
      "|j5yG2tIa  |SnugFit Phone Holder        |SFPH-007      |Ryan Scott          |2024-01-02     |The EnerGym Smart Fitness Band is a great motiv...  |NULL         |\n",
      "|x8hD9uQo  |EnerGym Smart Fitness Band  |EGSFB-005     |Emma White          |2024-01-02     |SnugFit Phone Holder keeps my phone secure whil...  |NULL         |\n",
      "|Z6cV7mJr  |SnugFit Phone Holder        |SFPH-007      |Michael Smith       |2024-01-02     |TrueTaste Blender Bottle mixes my protein shake...  |NULL         |\n",
      "|L0oW3eRi  |EnerGym Smart Fitness Band  |EGSFB-005     |Sarah Johnson       |2024-01-04     |These headphones are amazing! The sound quality...  |NULL         |\n",
      "|F9mQ1xPz  |TurboCharge Power Bank      |TCPB-010      |Emily Wong          |2024-01-04     |This desk is a game-changer for my home office ...  |NULL         |\n",
      "----------------------------------------------------------------------------------------------------------------------------------------------------------------\n",
      "\n"
     ]
    }
   ],
   "source": [
    "# Preview January DataFrame\n",
    "jan_df.show()"
   ]
  },
  {
   "cell_type": "code",
   "execution_count": 31,
   "metadata": {},
   "outputs": [],
   "source": [
    "# Write January product reviews to Snowflake-managed Iceberg Table\n",
    "jan_df.write.mode(\"append\").save_as_table(\"demo.public.product_reviews\")"
   ]
  },
  {
   "cell_type": "code",
   "execution_count": 32,
   "metadata": {},
   "outputs": [],
   "source": [
    "# Read February reviews CSV into DataFrame \n",
    "feb_df = session.read \\\n",
    "    .schema(reviews_schema) \\\n",
    "    .option(\"skip_header\", 1) \\\n",
    "    .option(\"field_optionally_enclosed_by\", '\"') \\\n",
    "    .csv(\"@demo.public.files/product_reviews_feb_24.csv\")"
   ]
  },
  {
   "cell_type": "code",
   "execution_count": 33,
   "metadata": {},
   "outputs": [],
   "source": [
    "# Write February product reviews to Snowflake-managed Iceberg Table\n",
    "feb_df.write.mode(\"append\").save_as_table(\"demo.public.product_reviews\")"
   ]
  }
 ],
 "metadata": {
  "kernelspec": {
   "display_name": "py38_env_forrester",
   "language": "python",
   "name": "python3"
  },
  "language_info": {
   "codemirror_mode": {
    "name": "ipython",
    "version": 3
   },
   "file_extension": ".py",
   "mimetype": "text/x-python",
   "name": "python",
   "nbconvert_exporter": "python",
   "pygments_lexer": "ipython3",
   "version": "3.8.18"
  }
 },
 "nbformat": 4,
 "nbformat_minor": 2
}
